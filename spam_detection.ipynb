{
 "cells": [
  {
   "cell_type": "markdown",
   "metadata": {},
   "source": [
    "# Spam Email Detection using Scikit-learn"
   ]
  },
  {
   "cell_type": "markdown",
   "metadata": {},
   "source": [
    "This Jupyter Notebook demonstrates the implementation of a machine learning model for spam email detection using the `scikit-learn` library in Python."
   ]
  },
  {
   "cell_type": "code",
   "execution_count": null,
   "metadata": {},
   "outputs": [],
   "source": [
    "import pandas as pd\n",
    "from sklearn.model_selection import train_test_split\n",
    "from sklearn.feature_extraction.text import TfidfVectorizer\n",
    "from sklearn.naive_bayes import MultinomialNB\n",
    "from sklearn.metrics import accuracy_score, classification_report, confusion_matrix"
   ]
  },
  {
   "cell_type": "markdown",
   "metadata": {},
   "source": [
    "## 1. Data Loading and Preprocessing"
   ]
  },
  {
   "cell_type": "code",
   "execution_count": null,
   "metadata": {},
   "outputs": [],
   "source": [
    "# For demonstration, we'll create a dummy dataset. In a real scenario, you would load your dataset (e.g., from a CSV file).\n",
    "# Example: df = pd.read_csv(\'spam_mails.csv\')\n",
    "data = {\n",
    "    'text': [\n",
    "        'Hey, how are you?',\n",
    "        'WINNER! You have won a free iPhone. Claim now!',\n",
    "        'Meeting at 3 PM tomorrow.',\n",
    "        'Urgent: Your account has been compromised. Click here to verify.',\n",
    "        'Can we reschedule our call?',\n",
    "        'Congratulations! You've been selected for a prize.',\n",
    "        'Please find the report attached.',\n",
    "        'Limited time offer! Get 50% off on all products.',\n",
    "        'Hello, just checking in.',\n",
    "        'Free money! Click this link to get rich quick.'\n",
    "    ],\n",
    "    'label': [\n",
    "        'ham',\n",
    "        'spam',\n",
    "        'ham',\n",
    "        'spam',\n",
    "        'ham',\n",
    "        'spam',\n",
    "        'ham',\n",
    "        'spam',\n",
    "        'ham',\n",
    "        'spam'\n",
    "    ]\n",
    "}\n",
    "df = pd.DataFrame(data)\n",
    "\n",
    "print(\"Dataset head:\")\n",
    "print(df.head())\n",
    "print(\"\\nDataset info:\")\n",
    "print(df.info())\n",
    "print(\"\\nLabel distribution:\")\n",
    "print(df['label'].value_counts())"
   ]
  },
  {
   "cell_type": "markdown",
   "metadata": {},
   "source": [
    "## 2. Feature Extraction (TF-IDF)"
   ]
  },
  {
   "cell_type": "code",
   "execution_count": null,
   "metadata": {},
   "outputs": [],
   "source": [
    "X = df['text']\n",
    "y = df['label']\n",
    "\n",
    "# Split data into training and testing sets\n",
    "X_train, X_test, y_train, y_test = train_test_split(X, y, test_size=0.3, random_state=42, stratify=y)\n",
    "\n",
    "# Initialize TF-IDF Vectorizer\n",
    "tfidf_vectorizer = TfidfVectorizer(stop_words='english', max_features=1000)\n",
    "\n",
    "# Fit and transform the training data\n",
    "X_train_tfidf = tfidf_vectorizer.fit_transform(X_train)\n",
    "\n",
    "# Transform the test data\n",
    "X_test_tfidf = tfidf_vectorizer.transform(X_test)\n",
    "\n",
    "print(\"TF-IDF Vectorizer fitted.\")\n",
    "print(f\"Shape of X_train_tfidf: {X_train_tfidf.shape}\")\n",
    "print(f\"Shape of X_test_tfidf: {X_test_tfidf.shape}\")"
   ]
  },
  {
   "cell_type": "markdown",
   "metadata": {},
   "source": [
    "## 3. Model Training (Multinomial Naive Bayes)"
   ]
  },
  {
   "cell_type": "code",
   "execution_count": null,
   "metadata": {},
   "outputs": [],
   "source": [
    "# Initialize and train the Multinomial Naive Bayes classifier\n",
    "mnb_classifier = MultinomialNB()\n",
    "mnb_classifier.fit(X_train_tfidf, y_train)\n",
    "\n",
    "print(\"Multinomial Naive Bayes classifier trained.\")"
   ]
  },
  {
   "cell_type": "markdown",
   "metadata": {},
   "source": [
    "## 4. Model Evaluation"
   ]
  },
  {
   "cell_type": "code",
   "execution_count": null,
   "metadata": {},
   "outputs": [],
   "source": [
    "# Make predictions on the test set\n",
    "y_pred = mnb_classifier.predict(X_test_tfidf)\n",
    "\n",
    "# Evaluate the model\n",
    "accuracy = accuracy_score(y_test, y_pred)\n",
    "report = classification_report(y_test, y_pred)\n",
    "cm = confusion_matrix(y_test, y_pred)\n",
    "\n",
    "print(f\"Accuracy: {accuracy:.2f}\")\n",
    "print(\"\\nClassification Report:\")\n",
    "print(report)\n",
    "print(\"\\nConfusion Matrix:\")\n",
    "print(cm)"
   ]
  },
  {
   "cell_type": "markdown",
   "metadata": {},
   "source": [
    "## 5. Prediction Example"
   ]
  },
  {
   "cell_type": "code",
   "execution_count": null,
   "metadata": {},
   "outputs": [],
   "source": [
    "# Function to predict if a new email is spam or ham\n",
    "def predict_spam(email_text):\n",
    "    email_tfidf = tfidf_vectorizer.transform([email_text])\n",
    "    prediction = mnb_classifier.predict(email_tfidf)[0]\n",
    "    return prediction\n",
    "\n",
    "# Test with new emails\n",
    "new_emails = [\n",
    "    'Congratulations! You've won a lottery. Claim your prize now.',\n",
    "    'Hi John, can we meet tomorrow at 10 AM?',\n",
    "    'Free gift card! Click here to redeem.',\n",
    "    'Regarding our project discussion.'\n",
    "]\n",
    "\n",
    "for email in new_emails:\n",
    "    prediction = predict_spam(email)\n",
    "    print(f\"Email: '{email}' -> Prediction: {prediction}\")"
   ]
  }
 ],
 "metadata": {
  "kernelspec": {
   "display_name": "Python 3",
   "language": "python",
   "name": "python3"
  },
  "language_info": {
   "codemirror_mode": {
    "name": "ipython",
    "version": 3
   },
   "file_extension": ".py",
   "mimetype": "text/x-python",
   "name": "python",
   "nbconvert_exporter": "python",
   "pygments_lexer": "ipython3",
   "version": "3.11.0rc1"
  }
 },
 "nbformat": 4,
 "nbformat_minor": 4
}

